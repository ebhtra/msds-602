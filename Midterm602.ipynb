version https://git-lfs.github.com/spec/v1
oid sha256:28e957ce25a9b71c1c3fbb440a325938d7af34b85066f8d4e7acecd702a67aaf
size 177126
