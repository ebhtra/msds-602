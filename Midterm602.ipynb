version https://git-lfs.github.com/spec/v1
oid sha256:94b14d49353fad9009b0e4d983b1321a535ae672d171a723735613b778b949d5
size 179245
