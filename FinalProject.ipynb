version https://git-lfs.github.com/spec/v1
oid sha256:c8b112a56e010fb036ae90808ebc7cb4fc1b3b5d89cffa853c3a9c0de19aa22f
size 388126
